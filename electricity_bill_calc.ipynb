{
 "cells": [
  {
   "cell_type": "code",
   "execution_count": 177,
   "metadata": {},
   "outputs": [
    {
     "data": {
      "text/plain": [
       "([1.15, 1.74, 1.86, 1.92, 2.98, 3.03, 3.1, 3.66, 4.53, 4.62], 2500)"
      ]
     },
     "execution_count": 177,
     "metadata": {},
     "output_type": "execute_result"
    }
   ],
   "source": [
    "from random import uniform,randint\n",
    "#Enter your unit split here\n",
    "unit_split = [50,50,100,100,100,100,300,300,400,1000]\n",
    "# Enter the multiplier for each unit in this list\n",
    "#price_split = []\n",
    "price_split = sorted([round(uniform(1,5),2) for p in range(len(unit_split))]) # sample multiplier generator\n",
    "\n",
    "price_split, sum(unit_split) #total capacity for calculation"
   ]
  },
  {
   "cell_type": "code",
   "execution_count": 178,
   "metadata": {},
   "outputs": [],
   "source": [
    "def power_bill(units):\n",
    "    for i in range(len(unit_split)+1):\n",
    "        if sum(unit_split[:i])<= int(units/100)*100:\n",
    "            fixed_unit_list = (unit_split[:i])\n",
    "    #print(fixed_unit_list,sum(fixed_unit_list))\n",
    "    products = [a * b for a, b in zip(fixed_unit_list,price_split)]\n",
    "    if units < 100:\n",
    "        return 160\n",
    "    elif units  > sum(unit_split):\n",
    "        return 'Possible commercial electricity bill. Enter more values in the unit split and split multipler lists'\n",
    "    elif sum(fixed_unit_list) != units:\n",
    "        remainder_product = price_split[len(fixed_unit_list)] * (units - sum(fixed_unit_list))\n",
    "        total = remainder_product + sum(products)\n",
    "        return total\n",
    "        #return(price_split, sum(products),price_split[len(fixed_unit_list)],units - sum(fixed_unit_list),remainder_product,total)\n",
    "    return sum(products)#,price_split\n"
   ]
  },
  {
   "cell_type": "code",
   "execution_count": 179,
   "metadata": {},
   "outputs": [
    {
     "data": {
      "text/plain": [
       "'Possible commercial electricity bill. Enter more values in the unit split and split multipler lists'"
      ]
     },
     "execution_count": 179,
     "metadata": {},
     "output_type": "execute_result"
    }
   ],
   "source": [
    "power_bill(2501)"
   ]
  },
  {
   "cell_type": "code",
   "execution_count": 180,
   "metadata": {},
   "outputs": [
    {
     "data": {
      "text/plain": [
       "9583.5"
      ]
     },
     "execution_count": 180,
     "metadata": {},
     "output_type": "execute_result"
    }
   ],
   "source": [
    "power_bill(2500)"
   ]
  },
  {
   "cell_type": "code",
   "execution_count": 181,
   "metadata": {},
   "outputs": [
    {
     "data": {
      "text/plain": [
       "2785.5"
      ]
     },
     "execution_count": 181,
     "metadata": {},
     "output_type": "execute_result"
    }
   ],
   "source": [
    "power_bill(1000)"
   ]
  },
  {
   "cell_type": "code",
   "execution_count": 182,
   "metadata": {},
   "outputs": [
    {
     "data": {
      "text/plain": [
       "144.5"
      ]
     },
     "execution_count": 182,
     "metadata": {},
     "output_type": "execute_result"
    }
   ],
   "source": [
    "power_bill(100)"
   ]
  },
  {
   "cell_type": "code",
   "execution_count": 183,
   "metadata": {},
   "outputs": [
    {
     "data": {
      "text/plain": [
       "160"
      ]
     },
     "execution_count": 183,
     "metadata": {},
     "output_type": "execute_result"
    }
   ],
   "source": [
    "power_bill(89)"
   ]
  },
  {
   "cell_type": "code",
   "execution_count": null,
   "metadata": {},
   "outputs": [],
   "source": []
  }
 ],
 "metadata": {
  "kernelspec": {
   "display_name": "Python 3",
   "language": "python",
   "name": "python3"
  },
  "language_info": {
   "codemirror_mode": {
    "name": "ipython",
    "version": 3
   },
   "file_extension": ".py",
   "mimetype": "text/x-python",
   "name": "python",
   "nbconvert_exporter": "python",
   "pygments_lexer": "ipython3",
   "version": "3.7.0"
  }
 },
 "nbformat": 4,
 "nbformat_minor": 4
}
